{
 "cells": [
  {
   "cell_type": "code",
   "execution_count": null,
   "id": "7361c236",
   "metadata": {},
   "outputs": [],
   "source": [
    "import plotly.express as px\n",
    "import pandas as pd"
   ]
  },
  {
   "cell_type": "code",
   "execution_count": null,
   "id": "89b0a74d",
   "metadata": {},
   "outputs": [],
   "source": [
    "df = pd.read_csv('results/activity/overall/last_3_yrs_most_pop_states.csv')"
   ]
  },
  {
   "cell_type": "code",
   "execution_count": null,
   "id": "c791f7bf",
   "metadata": {},
   "outputs": [],
   "source": [
    "df.head(10)"
   ]
  },
  {
   "cell_type": "code",
   "execution_count": null,
   "id": "a5910488",
   "metadata": {},
   "outputs": [],
   "source": [
    "fig = px.choropleth(df, locations=\"State\", locationmode=\"USA-states\", color=\"Flights\", scope=\"usa\")\n",
    "fig.update_layout()\n",
    "fig.write_image(\"png/Flights_states.png\", width=1920, height=1080)\n",
    "fig.show()"
   ]
  },
  {
   "cell_type": "code",
   "execution_count": null,
   "id": "568a7c64",
   "metadata": {},
   "outputs": [],
   "source": [
    "df_ori = pd.read_csv('results/activity/origin/last_3_yrs_most_pop_states.csv')"
   ]
  },
  {
   "cell_type": "code",
   "execution_count": null,
   "id": "4f18e5eb",
   "metadata": {},
   "outputs": [],
   "source": [
    "df_ori.head(10)"
   ]
  },
  {
   "cell_type": "code",
   "execution_count": null,
   "id": "55963b3e",
   "metadata": {},
   "outputs": [],
   "source": [
    "fig = px.choropleth(locations=df_ori.OriginSt, locationmode=\"USA-states\", color=df_ori.Flights, scope=\"usa\")\n",
    "fig.update_layout(\n",
    "    title_text = 'Origin number of flights 2006-2008')\n",
    "fig.show()"
   ]
  },
  {
   "cell_type": "code",
   "execution_count": null,
   "id": "a07483c6",
   "metadata": {},
   "outputs": [],
   "source": [
    "df_dest = pd.read_csv('results/activity/destination/last_3_yrs_most_pop_states.csv')"
   ]
  },
  {
   "cell_type": "code",
   "execution_count": null,
   "id": "ff7c2c52",
   "metadata": {},
   "outputs": [],
   "source": [
    "df_dest.head(10)"
   ]
  },
  {
   "cell_type": "code",
   "execution_count": null,
   "id": "6a22d30c",
   "metadata": {},
   "outputs": [],
   "source": [
    "fig = px.choropleth(locations=df_dest.DestSt, locationmode=\"USA-states\", color=df_dest.Flights, scope=\"usa\")\n",
    "fig.update_layout(\n",
    "    title_text = 'Origin number of flights 2006-2008')\n",
    "fig.show()"
   ]
  },
  {
   "cell_type": "code",
   "execution_count": null,
   "id": "74961079",
   "metadata": {},
   "outputs": [],
   "source": [
    "df[\"Difference\"] = df_ori['Flights'] - df_dest['Flights']"
   ]
  },
  {
   "cell_type": "code",
   "execution_count": null,
   "id": "1d9f4758",
   "metadata": {},
   "outputs": [],
   "source": [
    "fig = px.choropleth(df, locations=\"State\", locationmode=\"USA-states\", color=\"Difference\", scope=\"usa\")\n",
    "fig.update_layout(\n",
    "        legend_title={'text':'Dif'}\n",
    ")\n",
    "fig.write_image(\"png/difference_in_flights_states.png\", width=1920, height=1080)\n",
    "fig.show()"
   ]
  },
  {
   "cell_type": "code",
   "execution_count": null,
   "id": "d9dc56a8",
   "metadata": {},
   "outputs": [],
   "source": [
    "most_airports_delay_states = pd.read_csv('results/delay/states/last_3_yrs_delay_states.csv')"
   ]
  },
  {
   "cell_type": "code",
   "execution_count": null,
   "id": "a1f74c7f",
   "metadata": {},
   "outputs": [],
   "source": [
    "most_airports_delay_states.head(10)\n",
    "most_airports_delay_states[\"Average Delay in Minutes\"] = most_airports_delay_states[\"Average\"]"
   ]
  },
  {
   "cell_type": "code",
   "execution_count": null,
   "id": "86999ce0",
   "metadata": {},
   "outputs": [],
   "source": [
    "fig = px.choropleth(most_airports_delay_states, locations=\"State\", locationmode=\"USA-states\", color=\"Average Delay in Minutes\", scope=\"usa\")\n",
    "fig.write_image(\"png/Average_delay_states.png\", width=1920, height=1080)\n",
    "fig.show()"
   ]
  },
  {
   "cell_type": "code",
   "execution_count": null,
   "id": "018de197",
   "metadata": {},
   "outputs": [],
   "source": [
    "import matplotlib.pyplot as plt\n",
    "\n",
    "dep_time = pd.read_csv(\"results/dep_time/last_3_yrs_dep_time_1hr_2.csv\", sep=\";\")\n",
    "dep_time = dep_time.sort_values(by=\"Time\")\n",
    "plt.ylabel('Numbers of flights')\n",
    "plt.xlabel('hour')\n",
    "plt.suptitle('Number of flights per hours 2006-2008')\n",
    "plt.ticklabel_format(style='sci', axis='y', scilimits=(0,0))\n",
    "plt.plot(dep_time.Time, dep_time.Flights)"
   ]
  }
 ],
 "metadata": {
  "kernelspec": {
   "display_name": "Python 3",
   "language": "python",
   "name": "python3"
  },
  "language_info": {
   "codemirror_mode": {
    "name": "ipython",
    "version": 3
   },
   "file_extension": ".py",
   "mimetype": "text/x-python",
   "name": "python",
   "nbconvert_exporter": "python",
   "pygments_lexer": "ipython3",
   "version": "3.8.8"
  }
 },
 "nbformat": 4,
 "nbformat_minor": 5
}
